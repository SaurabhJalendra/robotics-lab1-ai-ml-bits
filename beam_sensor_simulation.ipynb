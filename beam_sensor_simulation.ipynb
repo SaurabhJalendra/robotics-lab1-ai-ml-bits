{
  "cells": [
    {
      "cell_type": "markdown",
      "metadata": {},
      "source": [
        "# Beam Sensor Model Implementation in PyBullet\n",
        "\n",
        "## Assignment Objectives:\n",
        "- Implement Beam Sensor Model in PyBullet simulation\n",
        "- Enable robot movement in cluttered environment with collision detection\n",
        "- Detect range distance to collisions\n",
        "- Semi-circular obstacle boundary at 5 meters\n",
        "- Maximum scanning range: 8 meters\n",
        "- Trajectory revision when collision detected within 0.2 meters\n",
        "\n",
        "## Implementation Features:\n",
        "- 5-beam sensor system at angles: [-40°, -20°, 0°, 20°, 40°]\n",
        "- Real-time visualization of beams and distances\n",
        "- Obstacle avoidance algorithm\n",
        "- Noise simulation in sensor readings"
      ]
    },
    {
      "cell_type": "code",
      "execution_count": 1,
      "metadata": {},
      "outputs": [
        {
          "name": "stdout",
          "output_type": "stream",
          "text": [
            "Libraries imported successfully!\n",
            "PyBullet version: 202010061\n"
          ]
        }
      ],
      "source": [
        "# Import required libraries\n",
        "import pybullet as p\n",
        "import pybullet_data\n",
        "import numpy as np\n",
        "import time\n",
        "import sys\n",
        "\n",
        "print(\"Libraries imported successfully!\")\n",
        "print(f\"PyBullet version: {p.getAPIVersion()}\")"
      ]
    },
    {
      "cell_type": "markdown",
      "metadata": {},
      "source": [
        "## Robot Creation Function\n",
        "\n",
        "Creates a simple box-shaped robot with collision and visual components."
      ]
    },
    {
      "cell_type": "code",
      "execution_count": 2,
      "metadata": {},
      "outputs": [],
      "source": [
        "def create_box_robot(position=[0, 0, 0.1], half_extents=[0.2, 0.2, 0.1]):\n",
        "    \"\"\"\n",
        "    Create a simple box robot\n",
        "    \n",
        "    Args:\n",
        "        position: [x, y, z] starting position\n",
        "        half_extents: [x, y, z] half dimensions of the box\n",
        "    \n",
        "    Returns:\n",
        "        robot_id: PyBullet object ID or -1 if failed\n",
        "    \"\"\"\n",
        "    try:\n",
        "        collision_shape = p.createCollisionShape(p.GEOM_BOX, halfExtents=half_extents)\n",
        "        visual_shape = p.createVisualShape(p.GEOM_BOX, halfExtents=half_extents, rgbaColor=[1, 0, 0, 1])\n",
        "        robot_id = p.createMultiBody(baseMass=1,\n",
        "                                     baseCollisionShapeIndex=collision_shape,\n",
        "                                     baseVisualShapeIndex=visual_shape,\n",
        "                                     basePosition=position)\n",
        "        print(f\"Robot created successfully with ID: {robot_id}\")\n",
        "        return robot_id\n",
        "    except Exception as e:\n",
        "        print(f\"Error creating box robot: {e}\")\n",
        "        return -1"
      ]
    },
    {
      "cell_type": "markdown",
      "metadata": {},
      "source": [
        "## Obstacle Creation Function\n",
        "\n",
        "Creates a semi-circular arrangement of obstacles exactly 5 meters away from the robot's starting position."
      ]
    },
    {
      "cell_type": "code",
      "execution_count": 3,
      "metadata": {},
      "outputs": [],
      "source": [
        "def create_obstacles(radius=5.0, count=18, height=2.0):\n",
        "    \"\"\"\n",
        "    Create semi-circular obstacles\n",
        "    \n",
        "    Args:\n",
        "        radius: Distance from origin (5.0 meters as per requirement)\n",
        "        count: Number of obstacles\n",
        "        height: Height of obstacles\n",
        "    \"\"\"\n",
        "    try:\n",
        "        colors = [[1, 0, 0, 1], [0, 1, 0, 1], [0, 0, 1, 1], [1, 1, 0, 1]]\n",
        "        half_extents = [0.15, 0.15, height / 2.0]\n",
        "        obstacle_ids = []\n",
        "        \n",
        "        for i in range(count):\n",
        "            angle = np.pi * i / (count - 1)  # Semi-circle from 0 to π\n",
        "            x = radius * np.cos(angle)\n",
        "            y = radius * np.sin(angle)\n",
        "            color = colors[i % len(colors)]\n",
        "            \n",
        "            col_shape = p.createCollisionShape(p.GEOM_BOX, halfExtents=half_extents)\n",
        "            vis_shape = p.createVisualShape(p.GEOM_BOX, halfExtents=half_extents, rgbaColor=color)\n",
        "            obstacle_id = p.createMultiBody(baseMass=0,\n",
        "                              baseCollisionShapeIndex=col_shape,\n",
        "                              baseVisualShapeIndex=vis_shape,\n",
        "                              basePosition=[x, y, half_extents[2]])\n",
        "            obstacle_ids.append(obstacle_id)\n",
        "            \n",
        "        print(f\"Created {count} obstacles in semi-circular arrangement at {radius}m radius\")\n",
        "        return obstacle_ids\n",
        "    except Exception as e:\n",
        "        print(f\"Error creating obstacles: {e}\")\n",
        "        return []"
      ]
    },
    {
      "cell_type": "markdown",
      "metadata": {},
      "source": [
        "## Robot Movement Function\n",
        "\n",
        "Controls robot movement including forward motion and turning for obstacle avoidance."
      ]
    },
    {
      "cell_type": "code",
      "execution_count": 4,
      "metadata": {},
      "outputs": [],
      "source": [
        "def move_robot(robot_id, velocity=0.15, turn=False):\n",
        "    \"\"\"\n",
        "    Move the robot forward or turn\n",
        "    \n",
        "    Args:\n",
        "        robot_id: PyBullet robot object ID\n",
        "        velocity: Forward movement speed\n",
        "        turn: Boolean flag for turning\n",
        "    \"\"\"\n",
        "    try:\n",
        "        pos, orn = p.getBasePositionAndOrientation(robot_id)\n",
        "        yaw = p.getEulerFromQuaternion(orn)[2]\n",
        "        \n",
        "        if turn:\n",
        "            yaw += np.pi / 3  # 60 degree turn\n",
        "            print(f\"Robot turning: new yaw = {np.degrees(yaw):.1f}°\")\n",
        "        \n",
        "        dx = velocity * np.cos(yaw)\n",
        "        dy = velocity * np.sin(yaw)\n",
        "        new_pos = [pos[0] + dx, pos[1] + dy, pos[2]]\n",
        "        new_orn = p.getQuaternionFromEuler([0, 0, yaw])\n",
        "        \n",
        "        p.resetBasePositionAndOrientation(robot_id, new_pos, new_orn)\n",
        "    except Exception as e:\n",
        "        print(f\"Error moving robot: {e}\")"
      ]
    },
    {
      "cell_type": "markdown",
      "metadata": {},
      "source": [
        "## Beam Sensor Model Implementation\n",
        "\n",
        "Core beam sensor system that casts 5 rays at specific angles to detect obstacles and measure distances."
      ]
    },
    {
      "cell_type": "code",
      "execution_count": 5,
      "metadata": {},
      "outputs": [],
      "source": [
        "def cast_multiple_beams(robot_id, scan_range=8.0, noise_std=0.02):\n",
        "    \"\"\"\n",
        "    Cast 5 beams at angles [-40°, -20°, 0°, 20°, 40°]\n",
        "    \n",
        "    Args:\n",
        "        robot_id: PyBullet robot object ID\n",
        "        scan_range: Maximum scanning range (8.0 meters as per requirement)\n",
        "        noise_std: Standard deviation for sensor noise\n",
        "    \n",
        "    Returns:\n",
        "        pos: Current robot position\n",
        "        beam_data: List of (distance, beam_dir, beam_end) tuples\n",
        "    \"\"\"\n",
        "    try:\n",
        "        pos, orn = p.getBasePositionAndOrientation(robot_id)\n",
        "        yaw = p.getEulerFromQuaternion(orn)[2]\n",
        "\n",
        "        beam_angles_deg = [-40, -20, 0, 20, 40]  # 5-beam configuration\n",
        "        beam_data = []\n",
        "\n",
        "        for angle_deg in beam_angles_deg:\n",
        "            angle_rad = yaw + np.deg2rad(angle_deg)\n",
        "            beam_dir = [np.cos(angle_rad), np.sin(angle_rad), 0]\n",
        "            beam_end = [pos[0] + scan_range * beam_dir[0],\n",
        "                        pos[1] + scan_range * beam_dir[1],\n",
        "                        pos[2]]\n",
        "\n",
        "            # Ray casting for collision detection\n",
        "            ray_result = p.rayTest(pos, beam_end)[0]\n",
        "            hit_fraction = ray_result[2]\n",
        "            distance = hit_fraction * scan_range\n",
        "\n",
        "            # Add sensor noise\n",
        "            noisy_distance = distance + np.random.normal(0, noise_std)\n",
        "            noisy_distance = np.clip(noisy_distance, 0.0, scan_range)\n",
        "\n",
        "            beam_data.append((noisy_distance, beam_dir, beam_end))\n",
        "\n",
        "        return pos, beam_data\n",
        "    except Exception as e:\n",
        "        print(f\"Error casting beams: {e}\")\n",
        "        return [0, 0, 0], []"
      ]
    },
    {
      "cell_type": "markdown",
      "metadata": {},
      "source": [
        "## Simulation Setup\n",
        "\n",
        "Initialize PyBullet environment, create robot and obstacles."
      ]
    },
    {
      "cell_type": "code",
      "execution_count": 6,
      "metadata": {},
      "outputs": [
        {
          "name": "stdout",
          "output_type": "stream",
          "text": [
            "PyBullet connected successfully. Client ID: 0\n",
            "Ground plane loaded with ID: 0\n",
            "Robot created successfully with ID: 1\n",
            "Created 18 obstacles in semi-circular arrangement at 5.0m radius\n",
            "Simulation environment set up successfully!\n"
          ]
        }
      ],
      "source": [
        "\n",
        "# Initialize PyBullet simulation\n",
        "try:\n",
        "    physicsClient = p.connect(p.GUI)\n",
        "    if physicsClient < 0:\n",
        "        print(\"CRITICAL ERROR: Could not connect to PyBullet.\")\n",
        "        sys.exit(1)\n",
        "    \n",
        "    print(f\"PyBullet connected successfully. Client ID: {physicsClient}\")\n",
        "    \n",
        "    # Set up physics environment\n",
        "    p.setAdditionalSearchPath(pybullet_data.getDataPath())\n",
        "    p.setGravity(0, 0, -9.8)\n",
        "    \n",
        "    # Load ground plane\n",
        "    planeId = p.loadURDF(\"plane.urdf\")\n",
        "    if planeId < 0:\n",
        "        print(\"CRITICAL ERROR: Could not load plane.\")\n",
        "        if p.isConnected(): p.disconnect()\n",
        "        sys.exit(1)\n",
        "    \n",
        "    print(f\"Ground plane loaded with ID: {planeId}\")\n",
        "    \n",
        "    # Create robot\n",
        "    robot_id = create_box_robot()\n",
        "    if robot_id < 0:\n",
        "        print(\"CRITICAL ERROR: Could not create robot.\")\n",
        "        if p.isConnected(): p.disconnect()\n",
        "        sys.exit(1)\n",
        "    \n",
        "    # Create obstacles\n",
        "    obstacle_ids = create_obstacles()\n",
        "    \n",
        "    # Set up camera view\n",
        "    p.resetDebugVisualizerCamera(\n",
        "        cameraDistance=8,\n",
        "        cameraYaw=45,\n",
        "        cameraPitch=-30,\n",
        "        cameraTargetPosition=[0, 0, 0]\n",
        "    )\n",
        "    \n",
        "    print(\"Simulation environment set up successfully!\")\n",
        "    \n",
        "except Exception as e:\n",
        "    print(f\"Error setting up simulation: {e}\")"
      ]
    },
    {
      "cell_type": "markdown",
      "metadata": {},
      "source": [
        "## Simulation Parameters\n",
        "\n",
        "Define key parameters according to assignment requirements."
      ]
    },
    {
      "cell_type": "code",
      "execution_count": 7,
      "metadata": {},
      "outputs": [
        {
          "name": "stdout",
          "output_type": "stream",
          "text": [
            "Simulation Parameters:\n",
            "- Scan Range: 8.0 meters\n",
            "- Stop Distance: 0.2 meters\n",
            "- Sensor Noise: 0.02\n",
            "- Robot Velocity: 0.15 m/step\n",
            "- Simulation Step: 0.05 seconds\n"
          ]
        }
      ],
      "source": [
        "# Simulation parameters (as per assignment requirements)\n",
        "SCAN_RANGE = 8.0           # Maximum scanning range: 8 meters\n",
        "STOP_DISTANCE = 0.2        # Collision threshold: 0.2 meters\n",
        "SENSOR_NOISE_STD = 0.02    # Sensor noise standard deviation\n",
        "ROBOT_VELOCITY = 0.15      # Robot movement velocity\n",
        "SIMULATION_STEP = 0.05     # Time step for simulation\n",
        "\n",
        "print(\"Simulation Parameters:\")\n",
        "print(f\"- Scan Range: {SCAN_RANGE} meters\")\n",
        "print(f\"- Stop Distance: {STOP_DISTANCE} meters\")\n",
        "print(f\"- Sensor Noise: {SENSOR_NOISE_STD}\")\n",
        "print(f\"- Robot Velocity: {ROBOT_VELOCITY} m/step\")\n",
        "print(f\"- Simulation Step: {SIMULATION_STEP} seconds\")"
      ]
    },
    {
      "cell_type": "markdown",
      "metadata": {},
      "source": [
        "## Main Simulation Loop\n",
        "\n",
        "Execute the main simulation with beam sensing and obstacle avoidance.\n",
        "\n",
        "**Instructions:**\n",
        "- Run this cell to start the simulation\n",
        "- The robot will move forward until it detects an obstacle within 0.2 meters\n",
        "- When obstacle detected, robot will turn 60° and continue\n",
        "- Press Ctrl+C in the output to stop the simulation\n",
        "- Beam colors: Red = Danger zone (<0.2m), Green = Safe zone\n",
        "- Distance values are displayed next to each beam"
      ]
    },
    {
      "cell_type": "code",
      "execution_count": 8,
      "metadata": {},
      "outputs": [
        {
          "name": "stdout",
          "output_type": "stream",
          "text": [
            "Starting simulation...\n",
            "Press Ctrl+C to stop the simulation\n",
            "Step 0: Moving forward - Min distance: 4.823m\n",
            "Robot turning: new yaw = 60.0°\n",
            "Step 31: Obstacle detected at 0.190m - TURNING (#1)\n",
            "Robot turning: new yaw = 120.8°\n",
            "Step 36: Obstacle detected at 0.117m - TURNING (#2)\n",
            "Robot turning: new yaw = 181.5°\n",
            "Step 55: Obstacle detected at 0.099m - TURNING (#3)\n",
            "Step 100: Moving forward - Min distance: 0.575m\n",
            "Robot turning: new yaw = -118.0°\n",
            "Step 105: Obstacle detected at 0.180m - TURNING (#4)\n",
            "Robot turning: new yaw = -58.0°\n",
            "Step 106: Obstacle detected at 0.057m - TURNING (#5)\n",
            "Step 200: Moving forward - Min distance: 7.977m\n",
            "PyBullet Error: Not connected to physics server.\n",
            "PyBullet was not connected or already disconnected.\n"
          ]
        }
      ],
      "source": [
        "# Main simulation loop\n",
        "try:\n",
        "    step_count = 0\n",
        "    collision_count = 0\n",
        "    \n",
        "    print(\"Starting simulation...\")\n",
        "    print(\"Press Ctrl+C to stop the simulation\")\n",
        "    \n",
        "    while True:\n",
        "        p.stepSimulation()\n",
        "        p.removeAllUserDebugItems()  # Clear previous visualizations\n",
        "        \n",
        "        # Cast 5 beams and get sensor data\n",
        "        pos, beam_data = cast_multiple_beams(robot_id, SCAN_RANGE, SENSOR_NOISE_STD)\n",
        "        \n",
        "        min_distance = SCAN_RANGE\n",
        "        \n",
        "        # Visualize beams and distances\n",
        "        for i, (distance, beam_dir, beam_end) in enumerate(beam_data):\n",
        "            # Color coding: Red for danger zone, Green for safe zone\n",
        "            color = [1, 0, 0] if distance < STOP_DISTANCE else [0, 1, 0]\n",
        "            \n",
        "            # Draw beam line\n",
        "            p.addUserDebugLine(pos, beam_end, color, lineWidth=2, lifeTime=0.1)\n",
        "            \n",
        "            # Display distance text\n",
        "            label_pos = [pos[0] + 0.2 * beam_dir[0],\n",
        "                         pos[1] + 0.2 * beam_dir[1],\n",
        "                         pos[2] + 0.1]\n",
        "            p.addUserDebugText(f\"{distance:.2f}m\", label_pos,\n",
        "                               textColorRGB=[0, 0, 0],\n",
        "                               textSize=0.7,\n",
        "                               lifeTime=0.1)\n",
        "            \n",
        "            min_distance = min(min_distance, distance)\n",
        "        \n",
        "        # Movement decision based on sensor readings\n",
        "        if min_distance < STOP_DISTANCE:\n",
        "            move_robot(robot_id, velocity=ROBOT_VELOCITY, turn=True)\n",
        "            collision_count += 1\n",
        "            print(f\"Step {step_count}: Obstacle detected at {min_distance:.3f}m - TURNING (#{collision_count})\")\n",
        "        else:\n",
        "            move_robot(robot_id, velocity=ROBOT_VELOCITY)\n",
        "            if step_count % 100 == 0:  # Print status every 100 steps\n",
        "                print(f\"Step {step_count}: Moving forward - Min distance: {min_distance:.3f}m\")\n",
        "        \n",
        "        step_count += 1\n",
        "        time.sleep(SIMULATION_STEP)\n",
        "\n",
        "except KeyboardInterrupt:\n",
        "    print(f\"\\nSimulation interrupted by user after {step_count} steps.\")\n",
        "    print(f\"Total obstacle avoidance maneuvers: {collision_count}\")\n",
        "except p.error as e:\n",
        "    print(f\"PyBullet Error: {e}\")\n",
        "except Exception as e:\n",
        "    print(f\"Unexpected Error: {e}\")\n",
        "finally:\n",
        "    if p.isConnected():\n",
        "        p.disconnect()\n",
        "        print(\"PyBullet disconnected cleanly.\")\n",
        "    else:\n",
        "        print(\"PyBullet was not connected or already disconnected.\")"
      ]
    },
    {
      "cell_type": "code",
      "execution_count": null,
      "metadata": {},
      "outputs": [],
      "source": []
    }
  ],
  "metadata": {
    "kernelspec": {
      "display_name": "Python 3",
      "language": "python",
      "name": "python3"
    },
    "language_info": {
      "codemirror_mode": {
        "name": "ipython",
        "version": 3
      },
      "file_extension": ".py",
      "mimetype": "text/x-python",
      "name": "python",
      "nbconvert_exporter": "python",
      "pygments_lexer": "ipython3",
      "version": "3.12.3"
    }
  },
  "nbformat": 4,
  "nbformat_minor": 2
}
